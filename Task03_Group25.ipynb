{
 "cells": [
  {
   "cell_type": "markdown",
   "id": "33d835a6",
   "metadata": {
    "toc": true
   },
   "source": [
    "<h1>Table of Contents<span class=\"tocSkip\"></span></h1>\n",
    "<div class=\"toc\"><ul class=\"toc-item\"><li><span><a href=\"#3)-Model-Selection---10-Pts\" data-toc-modified-id=\"3)-Model-Selection---10-Pts-1\"><span class=\"toc-item-num\">1&nbsp;&nbsp;</span>3) Model Selection - 10 Pts</a></span><ul class=\"toc-item\"><li><span><a href=\"#N-fold-Cross-Validation\" data-toc-modified-id=\"N-fold-Cross-Validation-1.1\"><span class=\"toc-item-num\">1.1&nbsp;&nbsp;</span>N-fold Cross-Validation</a></span></li><li><span><a href=\"#a)-Split-the-Data---2pts\" data-toc-modified-id=\"a)-Split-the-Data---2pts-1.2\"><span class=\"toc-item-num\">1.2&nbsp;&nbsp;</span>a) Split the Data - 2pts</a></span></li><li><span><a href=\"#b)-Train-and-Test-Loop---4-pts\" data-toc-modified-id=\"b)-Train-and-Test-Loop---4-pts-1.3\"><span class=\"toc-item-num\">1.3&nbsp;&nbsp;</span>b) Train and Test Loop - 4 pts</a></span></li><li><span><a href=\"#c)-Apply-N-fold-Cross-Validation---2-pts\" data-toc-modified-id=\"c)-Apply-N-fold-Cross-Validation---2-pts-1.4\"><span class=\"toc-item-num\">1.4&nbsp;&nbsp;</span>c) Apply N-fold Cross-Validation - 2 pts</a></span></li><li><span><a href=\"#d)-Interpreting-Results---2-pts\" data-toc-modified-id=\"d)-Interpreting-Results---2-pts-1.5\"><span class=\"toc-item-num\">1.5&nbsp;&nbsp;</span>d) Interpreting Results - 2 pts</a></span></li><li><span><a href=\"#e)-Optional---0-pts\" data-toc-modified-id=\"e)-Optional---0-pts-1.6\"><span class=\"toc-item-num\">1.6&nbsp;&nbsp;</span>e) Optional - 0 pts</a></span></li></ul></li></ul></div>"
   ]
  },
  {
   "cell_type": "markdown",
   "id": "91eb5b60",
   "metadata": {},
   "source": [
    "# 3) Model Selection - 4 Pts\n",
    "In our last homework we calculated the RMSE of different polynomials. In the last step we seperated the data into a training and a testing set. We applied the polynomial regression only on the training data and them calculated the RMSE on the testing data for each degree. This week we will go a bit further and run through an exemplary model selection process using n-fold cross validation."
   ]
  },
  {
   "cell_type": "code",
   "execution_count": 1,
   "id": "e7121c01",
   "metadata": {
    "ExecuteTime": {
     "end_time": "2022-01-06T19:34:38.409922Z",
     "start_time": "2022-01-06T19:34:37.960500Z"
    }
   },
   "outputs": [],
   "source": [
    "# the usual imports\n",
    "import sys # new one, for error messages.\n",
    "import numpy as np\n",
    "import matplotlib.pyplot as plt\n",
    "from itertools import combinations\n",
    "%matplotlib inline"
   ]
  },
  {
   "cell_type": "code",
   "execution_count": 2,
   "id": "5c91b2e7",
   "metadata": {
    "ExecuteTime": {
     "end_time": "2022-01-06T19:34:53.310670Z",
     "start_time": "2022-01-06T19:34:53.299702Z"
    }
   },
   "outputs": [
    {
     "data": {
      "text/plain": [
       "<matplotlib.collections.PathCollection at 0x1aef72d0250>"
      ]
     },
     "execution_count": 2,
     "metadata": {},
     "output_type": "execute_result"
    },
    {
     "data": {
      "image/png": "[encoded data removed]",
      "text/plain": [
       "<Figure size 1008x720 with 1 Axes>"
      ]
     },
     "metadata": {
      "needs_background": "light"
     },
     "output_type": "display_data"
    }
   ],
   "source": [
    "# short definitions of all the functions from the last homework.\n",
    "def rmse(x,y):\n",
    "    return np.sqrt(np.sum((x-y)**2)/len(x))\n",
    "\n",
    "def poly_dm(x,m):\n",
    "    ϕ = np.ones((len(x), m+1))\n",
    "    for i in range(1, m+1):\n",
    "        ϕ[:, i] = x**i\n",
    "    return ϕ\n",
    "\n",
    "def pseudoinverse(A):\n",
    "    return np.dot( np.linalg.inv( np.dot(A.T, A)), A.T)\n",
    "\n",
    "def poly_regress(x, y, deg):\n",
    "    ϕ = poly_dm(x, deg)\n",
    "    pseudo = pseudoinverse(ϕ)\n",
    "    return np.dot(pseudo,y)\n",
    "\n",
    "def polynom(x, w):\n",
    "    y = 0\n",
    "    for i in range(len(w)):\n",
    "        y += w[i]*(x**i)        \n",
    "    return y\n",
    "\n",
    "# importing the same data, store in X and Y\n",
    "X, Y = np.loadtxt('poly_data.csv', delimiter=',')\n",
    "\n",
    "# the target function\n",
    "def target_func(x):\n",
    "    return 1.5*np.sin(x) - np.cos(x/2) + 0.5\n",
    "\n",
    "# visualise dataset  \n",
    "plt.figure(figsize=(14, 10))\n",
    "plt.scatter(X,Y)\n",
    "\n",
    "\n"
   ]
  },
  {
   "cell_type": "markdown",
   "id": "16cac9d7",
   "metadata": {},
   "source": [
    "## N-fold Cross-Validation\n",
    "Instead of just splitting the dataset into one training and one testing set, we will split the data set into N sets, and use each set for both training and testing. For more details refer to [week 8](https://studip.uni-osnabrueck.de/dispatch.php/course/courseware/?cid=2cef8f5b660c5a9c132d06e82f1bb71e#/structural_element/77530 'studip'). "
   ]
  },
  {
   "cell_type": "markdown",
   "id": "1a682164",
   "metadata": {},
   "source": [
    "## a) Split the Data - 0.5 pts\n",
    "For n-fold cross-validation we need to have our data split into n equally sized chunks. Ideally we split the data randomly, to have a more representative sample in each chunk.\n",
    "\n",
    "The following instructions are meant as a help. You may or may not follow them.\n",
    "\n",
    "(assuming you stored your data in `X` and `Y`)\n",
    "\n",
    "    * create a 2D array with columns X and Y with shape (100,2)\n",
    "    \n",
    "    * shuffle that array (see [```np.random.permutation```](https://numpy.org/doc/stable/reference/random/generated/numpy.random.permutation.html))\n",
    "    \n",
    "    * split that array into n chunks and store them in a 3D array with shape (n, 100/n, 2)\n",
    "    \n",
    "    * (remember that sometimes complex loops performing data augmentation on arrays can be replaced by a simple numpy function that does exactly what you want with 1 line of code.)"
   ]
  },
  {
   "cell_type": "code",
   "execution_count": 3,
   "id": "37c6feb2",
   "metadata": {
    "ExecuteTime": {
     "end_time": "2022-01-07T03:31:14.678341Z",
     "start_time": "2022-01-07T03:31:14.673387Z"
    }
   },
   "outputs": [],
   "source": [
    "def split_data(x, y, n):\n",
    "    \"\"\" Splits data randomly into n chunks.\n",
    "    \n",
    "    Parameters\n",
    "    ----------\n",
    "    x,y: 1d numpy arrays\n",
    "    n: int\n",
    "    \n",
    "    Returns\n",
    "    -------\n",
    "    chunks: 3d numpy array\n",
    "    \"\"\"\n",
    "\n",
    "    #Your code here\n",
    "    \n",
    "    chunks = np.array(np.array_split(np.random.permutation(np.stack((X,Y), axis=1)),n))\n",
    "    \n",
    "    return chunks\n",
    "\n",
    "    "
   ]
  },
  {
   "cell_type": "markdown",
   "id": "d1c62f51",
   "metadata": {},
   "source": [
    "## b) Train and Test Loop - 2 pts\n",
    "Now we can  write a function that trains a polynomial model of a certain degree. The function should receive the number of chunks that the data is split into and the test ratio which determines the proportion of chunks that are used for testing. \n",
    "The following instructions are meant as a help. You may or may not follow them.\n",
    "\n",
    "\n",
    "    * calculate the number of test chunks\n",
    "\n",
    "    * iterate over total number of chunks and for each chunk:\n",
    "\n",
    "        * determine which chunks are used for training and for testing\n",
    "\n",
    "        * unite the training chunks into one array\n",
    "\n",
    "        * Perform polynomial regression over the training data to obtain the model parameters\n",
    "\n",
    "        * Use the model parameters to compute y values for the test chunk\n",
    "\n",
    "        * compute RMSE between model prediction and target values of the test chunk\n",
    "\n",
    "        * append the error to a list\n",
    "\n",
    "    * return the list of errors as array"
   ]
  },
  {
   "cell_type": "code",
   "execution_count": 4,
   "id": "527c67ec",
   "metadata": {},
   "outputs": [],
   "source": [
    "def train_test(chunks, degree, test_ratio=0.1):\n",
    "    \"\"\" Uses the ratio to determine a set of chunks to train on and then test using the remaining\n",
    "    \n",
    "    Parameters\n",
    "    ----------\n",
    "    chunks: 3d numpy array\n",
    "    degree: int\n",
    "    test_ratio: float\n",
    "    \n",
    "    Returns\n",
    "    -------\n",
    "    errors: 1d numpy array\n",
    "    \"\"\"\n",
    "\n",
    "    #Your code here\n",
    "    \n",
    "    errors = []\n",
    "    \n",
    "    #calculate the number of test chunks\n",
    "    nr_testchunks = int(test_ratio*len(chunks))\n",
    "    \n",
    "    #find all combinations of all test chunks\n",
    "    for comb in combinations(range(len(chunks)), nr_testchunks):  \n",
    "        test_chunks=[]\n",
    "        train_chunks=[]\n",
    "        for i in range(len(chunks)):\n",
    "            if i in comb:\n",
    "                test_chunks.append(chunks[i])\n",
    "            else:\n",
    "                train_chunks.append(chunks[i])\n",
    "         \n",
    "        # concatenate train and test\n",
    "        test_data = np.concatenate(test_chunks)\n",
    "        train_data = np.concatenate(train_chunks)\n",
    "        \n",
    "        # regress and test\n",
    "        model_parameters = poly_regress(train_data[:,0], train_data[:,1], degree)\n",
    "        y_hat = polynom(test_data[:,0], model_parameters)\n",
    "        errors.append(rmse(test_data[:,1], y_hat))\n",
    "    \n",
    "    #print(errors)\n",
    "    return np.array(errors)\n"
   ]
  },
  {
   "cell_type": "code",
   "execution_count": 5,
   "id": "71e20ec6",
   "metadata": {},
   "outputs": [
    {
     "data": {
      "text/plain": [
       "array([0.8385475 , 1.52373461, 1.11471193, 1.10165039, 1.33569499,\n",
       "       1.53152511, 1.44317387, 1.58173139, 1.19595991, 1.20072863])"
      ]
     },
     "execution_count": 5,
     "metadata": {},
     "output_type": "execute_result"
    }
   ],
   "source": [
    "np.random.seed(1)\n",
    "test = np.array(np.array_split(np.random.permutation(np.array([X,Y]).T),10))\n",
    "result = np.array([0.83, 1.52, 1.11, 1.10, 1.33, 1.53, 1.44, 1.58, 1.19, 1.2])\n",
    "train_test(test, 2)"
   ]
  },
  {
   "cell_type": "markdown",
   "id": "58268c4e",
   "metadata": {},
   "source": [
    "## c) Apply N-fold Cross-Validation - 1 pts\n",
    "Finally we want to train and test our polynomial regression models using our n-fold cross-validation. Since we get an error value for each iteration, we need to calculate some meta statistic we can compare. For this we will look at the mean and standard deviation of the errors for each degree. \n",
    "\n",
    "Apply the n-fold cross validation for polynomials of degree 1, ..., 10 and plot the results. \n",
    "Śplit the data into 10 chunks, 3 of which are always used for testing.\n",
    "\n",
    "The following instructions are meant as a help. You may or may not follow them.\n",
    "    * split the data\n",
    "    \n",
    "    * for each degree\n",
    "    \n",
    "        * train and test the polynomial regression\n",
    "        \n",
    "        * store the mean and standard deviation of the errors in a list\n",
    "        \n",
    "    * plot the results\n",
    "   "
   ]
  },
  {
   "cell_type": "code",
   "execution_count": 6,
   "id": "537361f9",
   "metadata": {
    "ExecuteTime": {
     "end_time": "2022-01-06T20:02:38.834607Z",
     "start_time": "2022-01-06T20:02:38.830653Z"
    },
    "scrolled": true
   },
   "outputs": [
    {
     "data": {
      "text/plain": [
       "Text(0, 0.5, 'std')"
      ]
     },
     "execution_count": 6,
     "metadata": {},
     "output_type": "execute_result"
    },
    {
     "data": {
      "image/png": "[encoded data removed]",
      "text/plain": [
       "<Figure size 216x216 with 1 Axes>"
      ]
     },
     "metadata": {
      "needs_background": "light"
     },
     "output_type": "display_data"
    },
    {
     "data": {
      "image/png": "[encoded data removed]",
      "text/plain": [
       "<Figure size 216x216 with 1 Axes>"
      ]
     },
     "metadata": {
      "needs_background": "light"
     },
     "output_type": "display_data"
    }
   ],
   "source": [
    "# we seed the random shuffling for more consistent results\n",
    "np.random.seed(42)\n",
    "\n",
    "#Your code here\n",
    "\n",
    "data = split_data(X,Y,10)\n",
    "degree = list(range(1,11))\n",
    "\n",
    "mean = []\n",
    "std = []\n",
    "for i in degree:\n",
    "    mean.append(np.mean(train_test(data,i,0.3)))\n",
    "    std.append(np.std(train_test(data,i,0.3)))\n",
    "\n",
    "\n",
    "\n",
    "#plot the result\n",
    "#mean\n",
    "plt.figure(figsize=(3, 3))\n",
    "plt.scatter(degree,mean)\n",
    "plt.xlabel(\"degree\")\n",
    "plt.ylabel(\"mean\")\n",
    "\n",
    "\n",
    "#std\n",
    "plt.figure(figsize=(3,3))\n",
    "plt.scatter(degree,std)\n",
    "plt.xlabel(\"degree\")\n",
    "plt.ylabel(\"std\")\n"
   ]
  },
  {
   "cell_type": "markdown",
   "id": "3013c52c",
   "metadata": {},
   "source": [
    "## d) Interpreting Results - 0.5 pts\n",
    "**How does the mean and the standard deviation behave for the different degrees?**\n",
    "\n",
    "**Which polynomial is best suited to model the data? Explain your choice.**"
   ]
  },
  {
   "cell_type": "markdown",
   "id": "0023d82b",
   "metadata": {},
   "source": [
    "The mean error is high for small degrees and gets lower for higher degrees (at the end there is a slight uptick though). The standard deviation is lowest for degrees in the middle and highest for high degrees (with the exception of degree=9). A polynomial around 6 degrees seems to perform the best on the standard deviation and the mean. The polynomial has the lowest mean and low deviation. So the errors have a minimum at a polynomial order of 6. This reflects the insights of the bias-variance tradeoff. The standard deviation is related to the variance of the models and the mean error is related to the bias."
   ]
  },
  {
   "cell_type": "markdown",
   "id": "5ea46e67",
   "metadata": {},
   "source": [
    "## e) Optional - 0 pts\n",
    "\n",
    "Try out the code from 1.4 using only 1/5 of the data for testing. How does that affect the result?"
   ]
  },
  {
   "cell_type": "markdown",
   "id": "016c8d05",
   "metadata": {},
   "source": [
    "It decreases the accuracy"
   ]
  },
  {
   "cell_type": "markdown",
   "id": "27fcd57e",
   "metadata": {},
   "source": [
    "Ignore the cell below"
   ]
  },
  {
   "cell_type": "code",
   "execution_count": 223,
   "id": "723295b7",
   "metadata": {
    "ExecuteTime": {
     "end_time": "2022-01-07T03:31:21.217791Z",
     "start_time": "2022-01-07T03:31:21.208815Z"
    }
   },
   "outputs": [
    {
     "name": "stdout",
     "output_type": "stream",
     "text": [
      "Data split looks okay!\n",
      "[0.8385474969965726, 1.5237346080506033, 1.114711930187173, 1.1016503891562432, 1.3356949856424776, 1.5315251066310611, 1.4431738735242823, 1.581731389695545, 1.1959599063822581, 1.2007286270568092]\n",
      "Train_test looks good!\n"
     ]
    }
   ],
   "source": [
    "try:\n",
    "    np.random.seed(1)\n",
    "    test = np.array(np.array_split(np.random.permutation(np.array([X,Y]).T),10))\n",
    "    np.random.seed(1)\n",
    "    print('Data split looks okay!') if np.array_equal(test, split_data(X,Y, 10)) else print(\"Some elements in data split aren't correct.\")\n",
    "except:\n",
    "    print('There is an error in the data_split function.')\n",
    "    \n",
    "try:\n",
    "    np.random.seed(1)\n",
    "    test = np.array(np.array_split(np.random.permutation(np.array([X,Y]).T),10))\n",
    "    result = np.array([0.83, 1.52, 1.11, 1.10, 1.33, 1.53, 1.44, 1.58, 1.19, 1.2])\n",
    "    print('Train_test looks good!') if np.allclose(np.array(train_test(test, 2)), result, atol=0.01) else print('Train_test returns some different values.')\n",
    "except:\n",
    "    print('There is an error in the train_test function.')"
   ]
  },
  {
   "cell_type": "code",
   "execution_count": null,
   "id": "49db69ba",
   "metadata": {},
   "outputs": [],
   "source": []
  }
 ],
 "metadata": {
  "kernelspec": {
   "display_name": "Python 3 (ipykernel)",
   "language": "python",
   "name": "python3"
  },
  "language_info": {
   "codemirror_mode": {
    "name": "ipython",
    "version": 3
   },
   "file_extension": ".py",
   "mimetype": "text/x-python",
   "name": "python",
   "nbconvert_exporter": "python",
   "pygments_lexer": "ipython3",
   "version": "3.9.7"
  },
  "toc": {
   "base_numbering": 1,
   "nav_menu": {},
   "number_sections": true,
   "sideBar": true,
   "skip_h1_title": false,
   "title_cell": "Table of Contents",
   "title_sidebar": "Contents",
   "toc_cell": true,
   "toc_position": {
    "height": "calc(100% - 180px)",
    "left": "10px",
    "top": "150px",
    "width": "193.319px"
   },
   "toc_section_display": true,
   "toc_window_display": false
  }
 },
 "nbformat": 4,
 "nbformat_minor": 5
}
